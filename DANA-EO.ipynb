{
 "cells": [
  {
   "cell_type": "markdown",
   "id": "2e1a1908-4ee1-462b-aa09-ec985524cce6",
   "metadata": {},
   "source": [
    "# **Flood Analysis for Valencia, Spain**\n",
    "\n",
    "This code performs a flood analysis using Sentinel-2 and Sentinel-1 data over Valencia, Spain. It includes:\n",
    "- Cloud masking\n",
    "- Histogram matching\n",
    "- Pansharpening\n",
    "- Resampling\n",
    "- Calculation of NDVI, NDWI, and NDBI indices\n",
    "- Visualization of results on a map\n",
    "- Export of results as GeoTIFF files."
   ]
  },
  {
   "cell_type": "markdown",
   "id": "bfcfd25d-bfed-47a9-8795-d887ccd49afe",
   "metadata": {},
   "source": [
    "## **1: Import Libraries and Define Constants**"
   ]
  },
  {
   "cell_type": "markdown",
   "id": "3e83e092-7d68-49d0-a018-78af5d247584",
   "metadata": {},
   "source": [
    "## *Explanation of each library and module*\n",
    "\n",
    "1. **`os`**:\n",
    "   - A standard Python module for interacting with the operating system.\n",
    "   - Used for file and directory manipulation, environment variable access, and path operations.\n",
    "   \n",
    "2. **`ee`** (Earth Engine):\n",
    "   - A module for accessing Google Earth Engine (GEE) in Python.\n",
    "   - GEE is a planetary-scale geospatial data analysis platform.\n",
    "     \n",
    "3. **`geemap`**:\n",
    "   - A Python library for interactive mapping and geospatial analysis with Google Earth Engine (GEE).\n",
    "   - It provides tools for analyzing satellite imagery and integrating GEE data into Python."
   ]
  },
  {
   "cell_type": "code",
   "execution_count": 1,
   "id": "a8c38993-7470-4f21-8e04-06718a5d5747",
   "metadata": {},
   "outputs": [],
   "source": [
    "import os\n",
    "import geemap\n",
    "import ee\n",
    "\n",
    "# Constants\n",
    "\n",
    "OUT_PATH = 'Output_Results'\n",
    "PRE_FLOOD_RANGE = ('2024-08-25', '2024-09-25')\n",
    "POST_FLOOD_RANGE = ('2024-09-26', '2024-11-25')\n",
    "\n",
    "VIS_RGB = {'min': 0, 'max': 3000, 'bands': ['B4', 'B3', 'B2']}\n",
    "VIS_PARAMS = {\n",
    "    'NDVI_DIFF': {'min': -0.5, 'max': 0.5, 'palette': ['red', 'white', 'green']},\n",
    "    'NDWI_DIFF': {'min': -0.5, 'max': 0.5, 'palette': ['blue', 'white', 'cyan']},\n",
    "    'NDBI_DIFF': {'min': -0.5, 'max': 0.5, 'palette': ['gray', 'white', 'black']}\n",
    "}\n",
    "\n",
    "NDVI_THRESHOLD = 0.001\n",
    "NDWI_THRESHOLD = 0.001\n",
    "NDBI_THRESHOLD = 0.001"
   ]
  },
  {
   "cell_type": "markdown",
   "id": "728acbfb-4dbd-422b-bf0f-dacffe5c0ee5",
   "metadata": {},
   "source": [
    "## **2: Define Utility Functions**"
   ]
  },
  {
   "cell_type": "markdown",
   "id": "58901f61-d8e7-4168-96f4-cca28f5ae39e",
   "metadata": {},
   "source": [
    "### *Authenticate and initialize Google Earth Engine*"
   ]
  },
  {
   "cell_type": "code",
   "execution_count": 2,
   "id": "7d6e3bad-ce4e-437c-931f-c4579f6bff47",
   "metadata": {},
   "outputs": [
    {
     "data": {
      "text/html": [
       "\n",
       "            <style>\n",
       "                .geemap-dark {\n",
       "                    --jp-widgets-color: white;\n",
       "                    --jp-widgets-label-color: white;\n",
       "                    --jp-ui-font-color1: white;\n",
       "                    --jp-layout-color2: #454545;\n",
       "                    background-color: #383838;\n",
       "                }\n",
       "\n",
       "                .geemap-dark .jupyter-button {\n",
       "                    --jp-layout-color3: #383838;\n",
       "                }\n",
       "\n",
       "                .geemap-colab {\n",
       "                    background-color: var(--colab-primary-surface-color, white);\n",
       "                }\n",
       "\n",
       "                .geemap-colab .jupyter-button {\n",
       "                    --jp-layout-color3: var(--colab-primary-surface-color, white);\n",
       "                }\n",
       "            </style>\n",
       "            "
      ],
      "text/plain": [
       "<IPython.core.display.HTML object>"
      ]
     },
     "metadata": {},
     "output_type": "display_data"
    }
   ],
   "source": [
    "def initialize_earth_engine():\n",
    "    \n",
    "    ee.Authenticate()\n",
    "    ee.Initialize()"
   ]
  },
  {
   "cell_type": "markdown",
   "id": "136a602e-47b4-449e-9541-5c1b06491843",
   "metadata": {},
   "source": [
    "### *Create output directory if it doesn't exist*"
   ]
  },
  {
   "cell_type": "code",
   "execution_count": 3,
   "id": "d6bbdce2-7093-4e6f-9ff8-50819aed04e2",
   "metadata": {},
   "outputs": [
    {
     "data": {
      "text/html": [
       "\n",
       "            <style>\n",
       "                .geemap-dark {\n",
       "                    --jp-widgets-color: white;\n",
       "                    --jp-widgets-label-color: white;\n",
       "                    --jp-ui-font-color1: white;\n",
       "                    --jp-layout-color2: #454545;\n",
       "                    background-color: #383838;\n",
       "                }\n",
       "\n",
       "                .geemap-dark .jupyter-button {\n",
       "                    --jp-layout-color3: #383838;\n",
       "                }\n",
       "\n",
       "                .geemap-colab {\n",
       "                    background-color: var(--colab-primary-surface-color, white);\n",
       "                }\n",
       "\n",
       "                .geemap-colab .jupyter-button {\n",
       "                    --jp-layout-color3: var(--colab-primary-surface-color, white);\n",
       "                }\n",
       "            </style>\n",
       "            "
      ],
      "text/plain": [
       "<IPython.core.display.HTML object>"
      ]
     },
     "metadata": {},
     "output_type": "display_data"
    }
   ],
   "source": [
    "def create_output_directory():\n",
    "    \n",
    "    if not os.path.exists(OUT_PATH):\n",
    "        os.mkdir(OUT_PATH)"
   ]
  },
  {
   "cell_type": "markdown",
   "id": "5668bf8b-73b1-43b4-82b2-a38d3d6b486b",
   "metadata": {},
   "source": [
    "### *Define the Region of Interest (ROI) around Valencia, Spain*"
   ]
  },
  {
   "cell_type": "code",
   "execution_count": 4,
   "id": "22adcab0-4d17-4fcf-a984-588ea40f01dc",
   "metadata": {},
   "outputs": [
    {
     "data": {
      "text/html": [
       "\n",
       "            <style>\n",
       "                .geemap-dark {\n",
       "                    --jp-widgets-color: white;\n",
       "                    --jp-widgets-label-color: white;\n",
       "                    --jp-ui-font-color1: white;\n",
       "                    --jp-layout-color2: #454545;\n",
       "                    background-color: #383838;\n",
       "                }\n",
       "\n",
       "                .geemap-dark .jupyter-button {\n",
       "                    --jp-layout-color3: #383838;\n",
       "                }\n",
       "\n",
       "                .geemap-colab {\n",
       "                    background-color: var(--colab-primary-surface-color, white);\n",
       "                }\n",
       "\n",
       "                .geemap-colab .jupyter-button {\n",
       "                    --jp-layout-color3: var(--colab-primary-surface-color, white);\n",
       "                }\n",
       "            </style>\n",
       "            "
      ],
      "text/plain": [
       "<IPython.core.display.HTML object>"
      ]
     },
     "metadata": {},
     "output_type": "display_data"
    }
   ],
   "source": [
    "def define_roi():\n",
    "    return ee.Geometry.Polygon([\n",
    "    [[-0.392, 39.518], [-0.392, 39.390], [-0.297, 39.390], [-0.297, 39.518], [-0.392, 39.518]]\n",
    "])"
   ]
  },
  {
   "cell_type": "markdown",
   "id": "758c14fd-82ac-4e7a-85ab-8e4589727bfb",
   "metadata": {},
   "source": [
    "### *Add a Bounding Box layer to the map*"
   ]
  },
  {
   "cell_type": "code",
   "execution_count": 5,
   "id": "8a7a0182-9de9-4fa7-be96-7979e445ed68",
   "metadata": {},
   "outputs": [
    {
     "data": {
      "text/html": [
       "\n",
       "            <style>\n",
       "                .geemap-dark {\n",
       "                    --jp-widgets-color: white;\n",
       "                    --jp-widgets-label-color: white;\n",
       "                    --jp-ui-font-color1: white;\n",
       "                    --jp-layout-color2: #454545;\n",
       "                    background-color: #383838;\n",
       "                }\n",
       "\n",
       "                .geemap-dark .jupyter-button {\n",
       "                    --jp-layout-color3: #383838;\n",
       "                }\n",
       "\n",
       "                .geemap-colab {\n",
       "                    background-color: var(--colab-primary-surface-color, white);\n",
       "                }\n",
       "\n",
       "                .geemap-colab .jupyter-button {\n",
       "                    --jp-layout-color3: var(--colab-primary-surface-color, white);\n",
       "                }\n",
       "            </style>\n",
       "            "
      ],
      "text/plain": [
       "<IPython.core.display.HTML object>"
      ]
     },
     "metadata": {},
     "output_type": "display_data"
    }
   ],
   "source": [
    "def add_bounding_box_to_map(map_object, roi, color=\"blue\", name=\"Bounding Box\"):\n",
    "   \n",
    "    bounding_box_layer = ee.FeatureCollection([ee.Feature(roi)])\n",
    "    map_object.addLayer(bounding_box_layer.style(\n",
    "        color=color, width=2, fillColor=None\n",
    "    ), {}, name)"
   ]
  },
  {
   "cell_type": "markdown",
   "id": "1bc3a4c2-aa85-46e1-b0c5-c0454b71950b",
   "metadata": {},
   "source": [
    "### *Mask Clouds from Sentinel-2 images*"
   ]
  },
  {
   "cell_type": "code",
   "execution_count": 6,
   "id": "f0c7156a-c1c9-496f-9baf-e9ee8afd0495",
   "metadata": {},
   "outputs": [
    {
     "data": {
      "text/html": [
       "\n",
       "            <style>\n",
       "                .geemap-dark {\n",
       "                    --jp-widgets-color: white;\n",
       "                    --jp-widgets-label-color: white;\n",
       "                    --jp-ui-font-color1: white;\n",
       "                    --jp-layout-color2: #454545;\n",
       "                    background-color: #383838;\n",
       "                }\n",
       "\n",
       "                .geemap-dark .jupyter-button {\n",
       "                    --jp-layout-color3: #383838;\n",
       "                }\n",
       "\n",
       "                .geemap-colab {\n",
       "                    background-color: var(--colab-primary-surface-color, white);\n",
       "                }\n",
       "\n",
       "                .geemap-colab .jupyter-button {\n",
       "                    --jp-layout-color3: var(--colab-primary-surface-color, white);\n",
       "                }\n",
       "            </style>\n",
       "            "
      ],
      "text/plain": [
       "<IPython.core.display.HTML object>"
      ]
     },
     "metadata": {},
     "output_type": "display_data"
    }
   ],
   "source": [
    "def mask_sentinel2_clouds(image):\n",
    "    \n",
    "    scl = image.select('SCL')  # Scene classification band\n",
    "    cloud_free = scl.neq(3).And(scl.neq(8)).And(scl.neq(9)).And(scl.neq(10)).And(scl.neq(11))\n",
    "    return image.updateMask(cloud_free)"
   ]
  },
  {
   "cell_type": "markdown",
   "id": "447e318d-60ad-4158-ba7a-a118f31e7fcc",
   "metadata": {},
   "source": [
    "### *Perform simple mean Pansharpening*"
   ]
  },
  {
   "cell_type": "code",
   "execution_count": 7,
   "id": "63af104b-48d9-47ca-b194-053b69efe5f5",
   "metadata": {},
   "outputs": [
    {
     "data": {
      "text/html": [
       "\n",
       "            <style>\n",
       "                .geemap-dark {\n",
       "                    --jp-widgets-color: white;\n",
       "                    --jp-widgets-label-color: white;\n",
       "                    --jp-ui-font-color1: white;\n",
       "                    --jp-layout-color2: #454545;\n",
       "                    background-color: #383838;\n",
       "                }\n",
       "\n",
       "                .geemap-dark .jupyter-button {\n",
       "                    --jp-layout-color3: #383838;\n",
       "                }\n",
       "\n",
       "                .geemap-colab {\n",
       "                    background-color: var(--colab-primary-surface-color, white);\n",
       "                }\n",
       "\n",
       "                .geemap-colab .jupyter-button {\n",
       "                    --jp-layout-color3: var(--colab-primary-surface-color, white);\n",
       "                }\n",
       "            </style>\n",
       "            "
      ],
      "text/plain": [
       "<IPython.core.display.HTML object>"
      ]
     },
     "metadata": {},
     "output_type": "display_data"
    }
   ],
   "source": [
    "def pansharpen_simple_mean(multispectral, panchromatic, bands):\n",
    "   \n",
    "    multispectral_mean = multispectral.reduce(ee.Reducer.mean())\n",
    "    pansharpened_bands = [\n",
    "        multispectral.select([band]).add(panchromatic.subtract(multispectral_mean))\n",
    "        for band in bands\n",
    "    ]\n",
    "    return ee.Image.cat(pansharpened_bands).rename(bands)"
   ]
  },
  {
   "cell_type": "markdown",
   "id": "0b787bac-e1ec-46d8-9963-671ff70bc775",
   "metadata": {},
   "source": [
    "### *Resample the image to a specific resolution*"
   ]
  },
  {
   "cell_type": "code",
   "execution_count": 8,
   "id": "b6c46420-47e7-40bf-b91d-bce85825befa",
   "metadata": {},
   "outputs": [
    {
     "data": {
      "text/html": [
       "\n",
       "            <style>\n",
       "                .geemap-dark {\n",
       "                    --jp-widgets-color: white;\n",
       "                    --jp-widgets-label-color: white;\n",
       "                    --jp-ui-font-color1: white;\n",
       "                    --jp-layout-color2: #454545;\n",
       "                    background-color: #383838;\n",
       "                }\n",
       "\n",
       "                .geemap-dark .jupyter-button {\n",
       "                    --jp-layout-color3: #383838;\n",
       "                }\n",
       "\n",
       "                .geemap-colab {\n",
       "                    background-color: var(--colab-primary-surface-color, white);\n",
       "                }\n",
       "\n",
       "                .geemap-colab .jupyter-button {\n",
       "                    --jp-layout-color3: var(--colab-primary-surface-color, white);\n",
       "                }\n",
       "            </style>\n",
       "            "
      ],
      "text/plain": [
       "<IPython.core.display.HTML object>"
      ]
     },
     "metadata": {},
     "output_type": "display_data"
    }
   ],
   "source": [
    "def resample_image(image, scale, resampling_method='nearest'):\n",
    "    \n",
    "    return image.resample(resampling_method).reproject(\n",
    "        crs=image.projection(),\n",
    "        scale=scale\n",
    "    )"
   ]
  },
  {
   "cell_type": "markdown",
   "id": "ee65937d-596c-4bc5-ade4-abc109560da1",
   "metadata": {},
   "source": [
    "### *Perform histogram matching for pre-flood and post-flood images*"
   ]
  },
  {
   "cell_type": "code",
   "execution_count": 9,
   "id": "98d408fe-4b1c-4a02-9b82-60c3742034a6",
   "metadata": {},
   "outputs": [
    {
     "data": {
      "text/html": [
       "\n",
       "            <style>\n",
       "                .geemap-dark {\n",
       "                    --jp-widgets-color: white;\n",
       "                    --jp-widgets-label-color: white;\n",
       "                    --jp-ui-font-color1: white;\n",
       "                    --jp-layout-color2: #454545;\n",
       "                    background-color: #383838;\n",
       "                }\n",
       "\n",
       "                .geemap-dark .jupyter-button {\n",
       "                    --jp-layout-color3: #383838;\n",
       "                }\n",
       "\n",
       "                .geemap-colab {\n",
       "                    background-color: var(--colab-primary-surface-color, white);\n",
       "                }\n",
       "\n",
       "                .geemap-colab .jupyter-button {\n",
       "                    --jp-layout-color3: var(--colab-primary-surface-color, white);\n",
       "                }\n",
       "            </style>\n",
       "            "
      ],
      "text/plain": [
       "<IPython.core.display.HTML object>"
      ]
     },
     "metadata": {},
     "output_type": "display_data"
    }
   ],
   "source": [
    "def histogram_match_simple(pre_flood_image, post_flood_image, band_name, region, scale):\n",
    "   \n",
    "    def normalize(image, band_name):\n",
    "        stats = image.reduceRegion(\n",
    "            reducer=ee.Reducer.minMax(),\n",
    "            geometry=region,\n",
    "            scale=scale,\n",
    "            bestEffort=True\n",
    "        )\n",
    "        min_val = ee.Number(stats.get(f\"{band_name}_min\"))\n",
    "        max_val = ee.Number(stats.get(f\"{band_name}_max\"))\n",
    "        return image.select(band_name).subtract(min_val).divide(max_val.subtract(min_val))\n",
    "\n",
    "    pre_flood_normalized = normalize(pre_flood_image, band_name)\n",
    "    post_flood_normalized = normalize(post_flood_image, band_name)\n",
    "\n",
    "    post_stats = post_flood_image.reduceRegion(\n",
    "        reducer=ee.Reducer.minMax(),\n",
    "        geometry=region,\n",
    "        scale=scale,\n",
    "        bestEffort=True\n",
    "    )\n",
    "    post_min = ee.Number(post_stats.get(f\"{band_name}_min\"))\n",
    "    post_max = ee.Number(post_stats.get(f\"{band_name}_max\"))\n",
    "\n",
    "    matched = pre_flood_normalized.multiply(post_max.subtract(post_min)).add(post_min)\n",
    "    return matched.rename(f\"{band_name}_matched\")"
   ]
  },
  {
   "cell_type": "markdown",
   "id": "a36741d2-c74c-492a-a061-5ee632198dc4",
   "metadata": {},
   "source": [
    "### *Calculate the area of regions in an image above a given threshold for a specific index*"
   ]
  },
  {
   "cell_type": "code",
   "execution_count": 10,
   "id": "a61f6b05-256b-4bc1-8d6c-1e3fbbee226d",
   "metadata": {},
   "outputs": [
    {
     "data": {
      "text/html": [
       "\n",
       "            <style>\n",
       "                .geemap-dark {\n",
       "                    --jp-widgets-color: white;\n",
       "                    --jp-widgets-label-color: white;\n",
       "                    --jp-ui-font-color1: white;\n",
       "                    --jp-layout-color2: #454545;\n",
       "                    background-color: #383838;\n",
       "                }\n",
       "\n",
       "                .geemap-dark .jupyter-button {\n",
       "                    --jp-layout-color3: #383838;\n",
       "                }\n",
       "\n",
       "                .geemap-colab {\n",
       "                    background-color: var(--colab-primary-surface-color, white);\n",
       "                }\n",
       "\n",
       "                .geemap-colab .jupyter-button {\n",
       "                    --jp-layout-color3: var(--colab-primary-surface-color, white);\n",
       "                }\n",
       "            </style>\n",
       "            "
      ],
      "text/plain": [
       "<IPython.core.display.HTML object>"
      ]
     },
     "metadata": {},
     "output_type": "display_data"
    }
   ],
   "source": [
    "def calculate_area(image, roi, threshold=0):\n",
    "    # Mask the image based on the threshold\n",
    "    significant_area = image.updateMask(image.gt(threshold))\n",
    "    \n",
    "    # Calculate the area in square meters\n",
    "    pixel_area = significant_area.multiply(ee.Image.pixelArea())\n",
    "    area_stats = pixel_area.reduceRegion(\n",
    "        reducer=ee.Reducer.sum(),\n",
    "        geometry=roi,\n",
    "        scale=10,\n",
    "        maxPixels=1e13\n",
    "    )\n",
    "    \n",
    "    # Convert area_stats to a Python dictionary\n",
    "    area_stats_dict = area_stats.getInfo()\n",
    "    \n",
    "    # Get the band name dynamically\n",
    "    band_name = image.bandNames().get(0).getInfo()\n",
    "    \n",
    "    # Check if the band name exists in the dictionary\n",
    "    if band_name not in area_stats_dict:\n",
    "        print(f\"Warning: Band '{band_name}' not found in area_stats: {area_stats_dict}\")\n",
    "        return 0  # Return 0 if no data is found\n",
    "    \n",
    "    # Convert to square kilometers\n",
    "    area_km2 = area_stats_dict[band_name] / 1e6\n",
    "    return area_km2"
   ]
  },
  {
   "cell_type": "markdown",
   "id": "c0979847-5324-4557-b4b7-3cd71f7c52ca",
   "metadata": {},
   "source": [
    "### *Calculate NDVI, NDWI, and NDBI indices*"
   ]
  },
  {
   "cell_type": "code",
   "execution_count": 11,
   "id": "986050d8-6380-4566-ba3e-05b2ba2ba3fc",
   "metadata": {},
   "outputs": [
    {
     "data": {
      "text/html": [
       "\n",
       "            <style>\n",
       "                .geemap-dark {\n",
       "                    --jp-widgets-color: white;\n",
       "                    --jp-widgets-label-color: white;\n",
       "                    --jp-ui-font-color1: white;\n",
       "                    --jp-layout-color2: #454545;\n",
       "                    background-color: #383838;\n",
       "                }\n",
       "\n",
       "                .geemap-dark .jupyter-button {\n",
       "                    --jp-layout-color3: #383838;\n",
       "                }\n",
       "\n",
       "                .geemap-colab {\n",
       "                    background-color: var(--colab-primary-surface-color, white);\n",
       "                }\n",
       "\n",
       "                .geemap-colab .jupyter-button {\n",
       "                    --jp-layout-color3: var(--colab-primary-surface-color, white);\n",
       "                }\n",
       "            </style>\n",
       "            "
      ],
      "text/plain": [
       "<IPython.core.display.HTML object>"
      ]
     },
     "metadata": {},
     "output_type": "display_data"
    }
   ],
   "source": [
    "def calculate_indices(image):\n",
    "   \n",
    "    ndvi = image.normalizedDifference(['B8', 'B4']).rename('NDVI')  # NIR and RED\n",
    "    ndwi = image.normalizedDifference(['B3', 'B8']).rename('NDWI')  # GREEN and NIR\n",
    "    ndbi = image.normalizedDifference(['B11', 'B8']).rename('NDBI')  # SWIR and NIR\n",
    "    return image.addBands([ndvi, ndwi, ndbi])"
   ]
  },
  {
   "cell_type": "markdown",
   "id": "e7690ff1-a463-4ce0-91b2-ace7abdc7d94",
   "metadata": {},
   "source": [
    "### *Export Images* - TIFF format"
   ]
  },
  {
   "cell_type": "code",
   "execution_count": 12,
   "id": "bf65f42c-c9fa-4318-a1e6-52f4bbd9b7ba",
   "metadata": {},
   "outputs": [
    {
     "data": {
      "text/html": [
       "\n",
       "            <style>\n",
       "                .geemap-dark {\n",
       "                    --jp-widgets-color: white;\n",
       "                    --jp-widgets-label-color: white;\n",
       "                    --jp-ui-font-color1: white;\n",
       "                    --jp-layout-color2: #454545;\n",
       "                    background-color: #383838;\n",
       "                }\n",
       "\n",
       "                .geemap-dark .jupyter-button {\n",
       "                    --jp-layout-color3: #383838;\n",
       "                }\n",
       "\n",
       "                .geemap-colab {\n",
       "                    background-color: var(--colab-primary-surface-color, white);\n",
       "                }\n",
       "\n",
       "                .geemap-colab .jupyter-button {\n",
       "                    --jp-layout-color3: var(--colab-primary-surface-color, white);\n",
       "                }\n",
       "            </style>\n",
       "            "
      ],
      "text/plain": [
       "<IPython.core.display.HTML object>"
      ]
     },
     "metadata": {},
     "output_type": "display_data"
    }
   ],
   "source": [
    "def export_image_to_tiff(image, file_name, region, scale=10):\n",
    "    \n",
    "    task = ee.batch.Export.image.toDrive(\n",
    "        image=image.clip(region),\n",
    "        description=file_name,\n",
    "        fileNamePrefix=file_name,\n",
    "        folder=OUT_PATH,\n",
    "        scale=scale,\n",
    "        maxPixels=1e13\n",
    "    )\n",
    "    task.start()\n",
    "    print(f\"Export task started for {file_name}. Check your Google Drive for the exported TIFF file.\")"
   ]
  },
  {
   "cell_type": "markdown",
   "id": "a9a820c9-e317-4d4c-a27c-3bd561284236",
   "metadata": {},
   "source": [
    "## **2: Define Utility Functions**"
   ]
  },
  {
   "cell_type": "markdown",
   "id": "2cc3eb01-0fbb-4325-b5bb-28ba5b21fc98",
   "metadata": {},
   "source": [
    "**Main workflow for flood analysis in Valencia, Spain:**\n",
    "- Authenticate and initialize Earth Engine.\n",
    "- Define a bounding box for Valencia.\n",
    "- Preprocess Sentinel-2 and Sentinel-1 data.\n",
    "- Apply histogram matching, pansharpening, and resampling.\n",
    "- Calculate NDVI, NDWI, and NDBI indices.\n",
    "- Visualize results on a map and export GeoTIFF files.\n",
    "    "
   ]
  },
  {
   "cell_type": "code",
   "execution_count": 14,
   "id": "1b1cc3fe-df9f-4c89-b3a8-a03b742e423d",
   "metadata": {},
   "outputs": [
    {
     "data": {
      "text/html": [
       "\n",
       "            <style>\n",
       "                .geemap-dark {\n",
       "                    --jp-widgets-color: white;\n",
       "                    --jp-widgets-label-color: white;\n",
       "                    --jp-ui-font-color1: white;\n",
       "                    --jp-layout-color2: #454545;\n",
       "                    background-color: #383838;\n",
       "                }\n",
       "\n",
       "                .geemap-dark .jupyter-button {\n",
       "                    --jp-layout-color3: #383838;\n",
       "                }\n",
       "\n",
       "                .geemap-colab {\n",
       "                    background-color: var(--colab-primary-surface-color, white);\n",
       "                }\n",
       "\n",
       "                .geemap-colab .jupyter-button {\n",
       "                    --jp-layout-color3: var(--colab-primary-surface-color, white);\n",
       "                }\n",
       "            </style>\n",
       "            "
      ],
      "text/plain": [
       "<IPython.core.display.HTML object>"
      ]
     },
     "metadata": {},
     "output_type": "display_data"
    },
    {
     "name": "stdout",
     "output_type": "stream",
     "text": [
      "Total Area of ROI (km²): 116.09075431508244\n",
      "NDVI Pre-Flood Area (km²): 14.35534104274565\n",
      "NDVI Post-Flood Area (km²): 14.038524363809618\n",
      "NDVI Area Change (km²): -0.31681667893603205\n",
      "NDWI Pre-Flood Area (km²): 4.240517761966586\n",
      "NDWI Post-Flood Area (km²): 4.178728272657948\n",
      "NDWI Area Change (km²): -0.061789489308638146\n",
      "NDBI Pre-Flood Area (km²): 5.678620420769274\n",
      "NDBI Post-Flood Area (km²): 4.780648899508967\n",
      "NDBI Area Change (km²): -0.897971521260307\n",
      "NDBI Pre-Flood Area (km²): 5.678620420769274\n",
      "NDBI Post-Flood Area (km²): 4.780648899508967\n",
      "NDBI Area Change (km²): -0.897971521260307\n",
      "NDBI Percentage Change (%): -0.7735082148084924\n",
      "Total Area of ROI (km²): 116.09075431508244\n",
      "Export task started for Pre_Flood_Imagery. Check your Google Drive for the exported TIFF file.\n",
      "Export task started for Post_Flood_Imagery. Check your Google Drive for the exported TIFF file.\n",
      "Export task started for Pansharpened_Image. Check your Google Drive for the exported TIFF file.\n",
      "Export task started for NDVI_Difference. Check your Google Drive for the exported TIFF file.\n",
      "Export task started for NDWI_Difference. Check your Google Drive for the exported TIFF file.\n",
      "Export task started for NDBI_Difference. Check your Google Drive for the exported TIFF file.\n",
      "Export task started for NDWI_Increase. Check your Google Drive for the exported TIFF file.\n",
      "Export task started for Flood_Risk_Map. Check your Google Drive for the exported TIFF file.\n",
      "All export tasks have been started. Check your output directory.\n"
     ]
    },
    {
     "data": {
      "application/vnd.jupyter.widget-view+json": {
       "model_id": "278bfc7579a2478d9055cbe7e45d70ba",
       "version_major": 2,
       "version_minor": 0
      },
      "text/plain": [
       "Map(center=[39.47, -0.38], controls=(WidgetControl(options=['position', 'transparent_bg'], widget=SearchDataGU…"
      ]
     },
     "execution_count": 14,
     "metadata": {},
     "output_type": "execute_result"
    }
   ],
   "source": [
    "def main():\n",
    "\n",
    "    # Initialize Earth Engine and create output directory\n",
    "    initialize_earth_engine()\n",
    "    create_output_directory()\n",
    "\n",
    "    # Define region of interest (ROI)\n",
    "    ROI = define_roi()\n",
    "\n",
    "    # Calculate the total area of the ROI\n",
    "    total_area = ROI.area().divide(1e6).getInfo()  # Convert from m² to km²\n",
    "    print(\"Total Area of ROI (km²):\", total_area)\n",
    "    \n",
    "    # Set up base map\n",
    "    base_map = geemap.Map(center=[39.47, -0.38], zoom=12)  # Centered on Valencia\n",
    "    add_bounding_box_to_map(base_map, ROI, color=\"blue\", name=\"Valencia Bounding Box\")\n",
    "\n",
    "    # Preprocess Sentinel-2 data\n",
    "    sentinel2 = ee.ImageCollection('COPERNICUS/S2_SR') \\\n",
    "        .filterBounds(ROI) \\\n",
    "        .filterDate(PRE_FLOOD_RANGE[0], POST_FLOOD_RANGE[1]) \\\n",
    "        .filter(ee.Filter.lt('CLOUDY_PIXEL_PERCENTAGE', 40))\n",
    "\n",
    "    pre_flood = sentinel2.filterDate(PRE_FLOOD_RANGE[0], PRE_FLOOD_RANGE[1]).map(mask_sentinel2_clouds)\n",
    "    post_flood = sentinel2.filterDate(PRE_FLOOD_RANGE[0], POST_FLOOD_RANGE[1]).map(mask_sentinel2_clouds)\n",
    "\n",
    "    # Calculate median images for pre- and post-flood\n",
    "    pre_flood_median = pre_flood.median()\n",
    "    post_flood_median = post_flood.median()\n",
    "\n",
    "    # Apply histogram matching and pansharpening\n",
    "    pre_flood_matched_b8 = histogram_match_simple(pre_flood_median, post_flood_median, 'B8', ROI, 10)\n",
    "    pre_flood_matched = pre_flood_median.addBands(pre_flood_matched_b8)\n",
    "\n",
    "    multispectral = pre_flood_matched.select(['B4', 'B3', 'B2'])  # RGB bands\n",
    "    panchromatic = pre_flood_matched.select('B8_matched')  # Histogram-matched B8 band\n",
    "    pansharpened_image = pansharpen_simple_mean(multispectral, panchromatic, ['B4', 'B3', 'B2'])\n",
    "\n",
    "    # Calculate indices (NDVI, NDWI, NDBI)\n",
    "    pre_flood_indices = calculate_indices(pre_flood_median)\n",
    "    post_flood_indices = calculate_indices(post_flood_median)\n",
    "\n",
    "    # Extract individual indices\n",
    "    pre_ndvi = pre_flood_indices.select('NDVI')\n",
    "    post_ndvi = post_flood_indices.select('NDVI')\n",
    "    pre_ndwi = pre_flood_indices.select('NDWI')\n",
    "    post_ndwi = post_flood_indices.select('NDWI')\n",
    "    pre_ndbi = pre_flood_indices.select('NDBI')\n",
    "    post_ndbi = post_flood_indices.select('NDBI')\n",
    "\n",
    "    # Calculate differences\n",
    "    ndvi_diff = post_ndvi.subtract(pre_ndvi)\n",
    "    ndwi_diff = post_ndwi.subtract(pre_ndwi)\n",
    "    ndbi_diff = post_ndbi.subtract(pre_ndbi)\n",
    "\n",
    "    # Calculate affected areas for pre- and post-flood indices\n",
    "    pre_ndvi_area = calculate_area(pre_ndvi, ROI, NDVI_THRESHOLD)\n",
    "    post_ndvi_area = calculate_area(post_ndvi, ROI, NDVI_THRESHOLD)\n",
    "    \n",
    "    pre_ndwi_area = calculate_area(pre_ndwi, ROI, NDWI_THRESHOLD)\n",
    "    post_ndwi_area = calculate_area(post_ndwi, ROI, NDWI_THRESHOLD)\n",
    "    \n",
    "    pre_ndbi_area = calculate_area(pre_ndbi, ROI, NDBI_THRESHOLD)\n",
    "    post_ndbi_area = calculate_area(post_ndbi, ROI, NDBI_THRESHOLD)\n",
    "    \n",
    "    # Compute the difference in areas\n",
    "    ndvi_area_change = post_ndvi_area - pre_ndvi_area\n",
    "    ndwi_area_change = post_ndwi_area - pre_ndwi_area\n",
    "    ndbi_area_change = post_ndbi_area - pre_ndbi_area\n",
    "\n",
    "    ndvi_percentage_change = (ndvi_area_change / total_area) * 100\n",
    "    ndwi_percentage_change = (ndwi_area_change / total_area) * 100\n",
    "    ndbi_percentage_change = (ndbi_area_change / total_area) * 100\n",
    "    \n",
    "    # Print the results\n",
    "    print('NDVI Pre-Flood Area (km²):', pre_ndvi_area)\n",
    "    print('NDVI Post-Flood Area (km²):', post_ndvi_area)\n",
    "    print('NDVI Area Change (km²):', ndvi_area_change)\n",
    "    \n",
    "    print('NDWI Pre-Flood Area (km²):', pre_ndwi_area)\n",
    "    print('NDWI Post-Flood Area (km²):', post_ndwi_area)\n",
    "    print('NDWI Area Change (km²):', ndwi_area_change)\n",
    "    \n",
    "    print('NDBI Pre-Flood Area (km²):', pre_ndbi_area)\n",
    "    print('NDBI Post-Flood Area (km²):', post_ndbi_area)\n",
    "    print('NDBI Area Change (km²):', ndbi_area_change)\n",
    "\n",
    "    print('NDBI Pre-Flood Area (km²):', pre_ndbi_area)\n",
    "    print('NDBI Post-Flood Area (km²):', post_ndbi_area)\n",
    "    print('NDBI Area Change (km²):', ndbi_area_change)\n",
    "    print('NDBI Percentage Change (%):', ndbi_percentage_change)\n",
    "\n",
    "\n",
    "    # Create NDWI increase layer (to highlight flood-affected areas)\n",
    "    ndwi_increase = ndwi_diff.updateMask(ndwi_diff.gt(0))\n",
    "\n",
    "    # Calculate the total area of the ROI\n",
    "    total_area = ROI.area().divide(1e6).getInfo()  # Convert from m² to km²\n",
    "    print(\"Total Area of ROI (km²):\", total_area)\n",
    "\n",
    "    # DEM-Based Flood Risk Analysis\n",
    "    dem = ee.Image(\"USGS/SRTMGL1_003\").select([0]).clip(ROI)  # Ensure single band and clip to ROI\n",
    "\n",
    "    # Manually create Flood Risk Map\n",
    "    low_risk = dem.gt(50)  # Elevation above 50m\n",
    "    medium_risk = dem.lte(50).And(dem.gt(10))  # Elevation 10m–50m\n",
    "    high_risk = dem.lte(10)  # Elevation below or equal to 10m\n",
    "\n",
    "    flood_risk_vis = low_risk.multiply(1).add(medium_risk.multiply(2)).add(high_risk.multiply(3))\n",
    "\n",
    "    # Visualization parameters\n",
    "    dem_vis_params = {'min': 0, 'max': 100, 'palette': ['white', 'gray', 'black']}\n",
    "    flood_risk_vis_params = {'min': 1, 'max': 3, 'palette': ['green', 'yellow', 'red']}\n",
    "\n",
    "    # Add layers to the base map\n",
    "    base_map.addLayer(pre_flood_median.clip(ROI), VIS_RGB, 'Pre-Flood Imagery')\n",
    "    base_map.addLayer(post_flood_median.clip(ROI), VIS_RGB, 'Post-Flood Imagery')\n",
    "    base_map.addLayer(pansharpened_image.clip(ROI), VIS_RGB, 'Pansharpened Image')\n",
    "    \n",
    "    base_map.addLayer(ndvi_diff.clip(ROI), VIS_PARAMS['NDVI_DIFF'], 'NDVI Difference')\n",
    "    base_map.addLayer(ndwi_diff.clip(ROI), VIS_PARAMS['NDWI_DIFF'], 'NDWI Difference')\n",
    "    base_map.addLayer(ndbi_diff.clip(ROI), VIS_PARAMS['NDBI_DIFF'], 'NDBI Difference')\n",
    "\n",
    "    base_map.addLayer(ndwi_increase.clip(ROI), {'min': 0, 'max': 1, 'palette': ['blue']}, 'NDWI Increase (Flooded Areas)')\n",
    "    base_map.addLayer(dem.clip(ROI), dem_vis_params, \"DEM Elevation\")\n",
    "    base_map.addLayer(flood_risk_vis.clip(ROI), flood_risk_vis_params, \"Flood Risk (Based on DEM)\")\n",
    "\n",
    "    # Export GeoTIFFs for all layers\n",
    "    export_image_to_tiff(pre_flood_median, \"Pre_Flood_Imagery\", ROI)\n",
    "    export_image_to_tiff(post_flood_median, \"Post_Flood_Imagery\", ROI)\n",
    "    export_image_to_tiff(pansharpened_image, \"Pansharpened_Image\", ROI)\n",
    "    export_image_to_tiff(ndvi_diff, \"NDVI_Difference\", ROI)\n",
    "    export_image_to_tiff(ndwi_diff, \"NDWI_Difference\", ROI)\n",
    "    export_image_to_tiff(ndbi_diff, \"NDBI_Difference\", ROI)\n",
    "    export_image_to_tiff(ndwi_increase, \"NDWI_Increase\", ROI)\n",
    "   \n",
    "    export_image_to_tiff(flood_risk_vis.clip(ROI), \"Flood_Risk_Map\", ROI)\n",
    "\n",
    "    print(\"All export tasks have been started. Check your output directory.\")\n",
    "\n",
    "    # Return the base map for visualization\n",
    "    return base_map\n",
    "\n",
    "\n",
    "# Run the main function and display the base map\n",
    "base_map = main()\n",
    "base_map  # Displays the interactive map"
   ]
  },
  {
   "cell_type": "code",
   "execution_count": null,
   "id": "43b6b69a-c76a-402d-91d6-b7bdfdc18850",
   "metadata": {},
   "outputs": [],
   "source": []
  }
 ],
 "metadata": {
  "kernelspec": {
   "display_name": "Python 3 (ipykernel)",
   "language": "python",
   "name": "python3"
  },
  "language_info": {
   "codemirror_mode": {
    "name": "ipython",
    "version": 3
   },
   "file_extension": ".py",
   "mimetype": "text/x-python",
   "name": "python",
   "nbconvert_exporter": "python",
   "pygments_lexer": "ipython3",
   "version": "3.13.1"
  }
 },
 "nbformat": 4,
 "nbformat_minor": 5
}
